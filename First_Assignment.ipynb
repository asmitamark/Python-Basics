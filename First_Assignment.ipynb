{
 "cells": [
  {
   "cell_type": "code",
   "execution_count": 1,
   "id": "86a1d49d-1d74-4c7c-8143-e6d2d0e06de4",
   "metadata": {},
   "outputs": [],
   "source": [
    "#1 explain the key features of Python that make it a popular choice for programming."
   ]
  },
  {
   "cell_type": "raw",
   "id": "dd681cf1-597d-4e91-97a0-504808d56e2e",
   "metadata": {},
   "source": [
    "1- Python is a programming language that is easy to understand and write, making it a popular choice among developers and programmers. \n",
    "2- It is compatible with various programming paradigms, such as procedural, object-oriented, and functional programming. \n",
    "3- Python has a large and active community of developers, an extensive standard library, and third-party packages for various domains.\n",
    "4- Python is an interpreted language, meaning that code is executed line-by-line. This feature supports rapid prototyping and iterative development.\n",
    "5- Python provides an interactive mode (REPL) that allows developers to test code snippets quickly and explore Python’s features interactively.\n",
    "6- Its versatility makes it suitable for many different types of projects.\n",
    "7- Python is used in a wide range of applications, from web development and data analysis to artificial intelligence and scientific computing. \n",
    "8- Python runs on various operating systems, including Windows, macOS, and Linux.\n",
    "9- Python uses dynamic typing, which means you don’t need to declare variable types explicitly.\n",
    "10- Python runs on various operating systems, including Windows, macOS, and Linux."
   ]
  },
  {
   "cell_type": "code",
   "execution_count": 2,
   "id": "89bcde32-a352-4a3a-9d8f-719db1ff1096",
   "metadata": {},
   "outputs": [],
   "source": [
    "#2 Describe the role of predefined keywords in Python and provide examples of how they are used in a program."
   ]
  },
  {
   "cell_type": "raw",
   "id": "898f010a-fc84-4061-9195-1be57f7f29a5",
   "metadata": {},
   "source": [
    "Predefined keywords are reserved words that have special meanings and purposes in the language. They are integral to Python’s syntax and structure, defining the fundamental constructs of the language. You cannot use these keywords as identifiers (e.g., variable names, function names) in your programs. Keywords are case-sensitive and cannot be redefined or overridden within a Python program.\n",
    "\n",
    "Roles of Predefined Keywords:-\n",
    "1- Control Flow: Keywords like if, elif, else, for, while, and break control the flow of execution in a program, allowing for conditional statements and loops.\n",
    "2- Definition and Declaration: Keywords such as def and class are used to define functions and classes, respectively, establishing new code structures.\n",
    "3- Data Types and Structures: Keywords like True, False, None, and import are used to represent special values and manage module imports.\n",
    "\n",
    "Examples of How They Are Used:-\n",
    "x = 10\n",
    "if x > 5:\n",
    "    print(\"x is greater than 5\")\n",
    "else:\n",
    "    print(\"x is 5 or less\")"
   ]
  },
  {
   "cell_type": "code",
   "execution_count": 3,
   "id": "942963a4-1754-4a01-90ca-8e71bd78d8e7",
   "metadata": {},
   "outputs": [],
   "source": [
    "# 3 Compare and contrast mutable and immutable objects in Python with examples."
   ]
  },
  {
   "cell_type": "raw",
   "id": "ef9906e3-459f-4484-bd4a-efa25b3e321b",
   "metadata": {},
   "source": [
    "Mutable objects - can be changed after they are created. This means that their content or state can be modified without creating a new object. E.g., List and Dictionary\n",
    "\n",
    "Immutable objects - cannot be changed once they are created. Any modification creates a new object rather than altering the existing one.\n",
    "E.g., Tuple and String\n",
    "\n",
    "Comparison-\n",
    "1-\n",
    "Mutable: Can be changed after creation (e.g., lists, dictionaries).\n",
    "Immutable: Cannot be changed after creation (e.g., tuples, strings).\n",
    "2-\n",
    "Mutable: Useful when you need to change the content of an object over time.\n",
    "Immutable: Useful when you need objects to remain constant and unchanged, providing a guarantee that the object won’t be modified elsewhere in the code.\n",
    "3-\n",
    "Mutable: Generally not hashable (e.g., lists, dictionaries), meaning they can’t be used as keys in dictionaries or elements in sets.\n",
    "Immutable: Generally hashable (e.g., strings, tuples) and can be used as keys in dictionaries or elements in sets."
   ]
  },
  {
   "cell_type": "code",
   "execution_count": 4,
   "id": "e9a1043b-632e-4342-9812-2a6edb14702e",
   "metadata": {},
   "outputs": [],
   "source": [
    "# 4 Discuss the different types of operators in Python and provide examples of how they are used."
   ]
  },
  {
   "cell_type": "raw",
   "id": "74bc51d3-b562-45b0-9244-037b2dbef80c",
   "metadata": {},
   "source": [
    "Python supports various types of operators, including arithmetic operators (+, -, *, /), comparison operators (==, !=, <, >), logical operators (and, or, not), assignment operators (=, +=, -=, *=, /=), etc.\n",
    "Operators have precedence and associativity rules that determine the order of evaluation in expressions."
   ]
  },
  {
   "cell_type": "code",
   "execution_count": 5,
   "id": "ef678fe2-01d6-45e3-9b37-ef9164e72ecd",
   "metadata": {},
   "outputs": [],
   "source": [
    "# 5 Explain the concept of type casting in Python with examples."
   ]
  },
  {
   "cell_type": "raw",
   "id": "473913f7-1ccc-4633-8306-def49e908991",
   "metadata": {},
   "source": [
    "Type casting in Python is the process of converting a variable from one data type to another. This is useful when you need to ensure that operations are performed on compatible types or when you want to format data in a specific way. Python provides built-in functions for type casting, such as int(), float(), str(), list(), tuple(), dict(), etc.\n",
    "E.g.,\n",
    "x = 5.7\n",
    "y = int(x)\n",
    "print(y)  # Output: 5"
   ]
  },
  {
   "cell_type": "code",
   "execution_count": 6,
   "id": "b2ed8bc8-bcd8-42a6-9d2a-de5d42b024b5",
   "metadata": {},
   "outputs": [],
   "source": [
    "# 6 How do conditional statements work in Python? Illustrate with examples."
   ]
  },
  {
   "cell_type": "raw",
   "id": "8b624dda-e858-40bf-915a-d8e75c95a80d",
   "metadata": {},
   "source": [
    "Conditional statements in Python control the flow of execution based on whether certain conditions are true or false. They allow your program to make decisions and execute different code blocks depending on the outcome of those decisions.\n",
    "\n",
    "E.g.,\n",
    "score = 85\n",
    "\n",
    "if score >= 90:\n",
    "    print(\"Grade: A\")\n",
    "elif score >= 80:\n",
    "    print(\"Grade: B\")\n",
    "elif score >= 70:\n",
    "    print(\"Grade: C\")\n",
    "else:\n",
    "    print(\"Grade: D\")\n"
   ]
  },
  {
   "cell_type": "code",
   "execution_count": 7,
   "id": "f48ad560-9b20-4d8c-b1bf-73699c4a728e",
   "metadata": {},
   "outputs": [],
   "source": [
    "# 7 Describe the different types of loops in Python and their use cases with examples."
   ]
  },
  {
   "cell_type": "raw",
   "id": "e8d343cf-06b2-43eb-9e83-b439e2409439",
   "metadata": {},
   "source": [
    "Loops are used to execute a block of code repeatedly based on certain conditions. There are two primary types of loops: for loops and while loops.\n",
    "“for” loops are used for iterating over a sequence of elements, while “while” loops are used for executing code until a specified condition becomes False.\n",
    "\n",
    "Use Cases of For loop:\n",
    "\n",
    "Iterating over elements of a collection (e.g., list, tuple).\n",
    "Generating a sequence of numbers using the range() function.\n",
    "Performing operations on each item in a collection.\n",
    "\n",
    "E.g., \n",
    "word = \"hello\"\n",
    "for letter in word:\n",
    "    print(letter)\n",
    "\n",
    "Use Cases of while loop:\n",
    "\n",
    "When the number of iterations is not known beforehand.\n",
    "Continuously checking a condition or status until it changes.\n",
    "Implementing infinite loops with a termination condition.\n",
    "\n",
    "E.g.,\n",
    "count = 0\n",
    "while count < 5:\n",
    "    print(count)\n",
    "    count += 1\n",
    "else:\n",
    "    print(\"Loop finished.\")"
   ]
  }
 ],
 "metadata": {
  "kernelspec": {
   "display_name": "Python 3 (ipykernel)",
   "language": "python",
   "name": "python3"
  },
  "language_info": {
   "codemirror_mode": {
    "name": "ipython",
    "version": 3
   },
   "file_extension": ".py",
   "mimetype": "text/x-python",
   "name": "python",
   "nbconvert_exporter": "python",
   "pygments_lexer": "ipython3",
   "version": "3.11.5"
  }
 },
 "nbformat": 4,
 "nbformat_minor": 5
}
